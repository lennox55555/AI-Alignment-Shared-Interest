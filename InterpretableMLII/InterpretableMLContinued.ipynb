{
 "cells": [
  {
   "cell_type": "markdown",
   "id": "f622901b-ac4b-4cb6-a45b-5ba789b109d9",
   "metadata": {},
   "source": [
    "imodels is an interpretability library in python that has support for many decision rule set and list algorithms (https://github.com/csinva/imodels?tab=readme-ov-file). \n",
    "\n",
    " \n",
    "\n",
    "From the list of supported models available in the README (link above), choose three algorithms to demo on a dataset of your choice. \n",
    "\n",
    " \n",
    "\n",
    "In addition to a demonstration for each of your chosen algorithms, you should provide an explanation of the method via a visual. This visual can be a block diagram, a slide, or anything of your choosing. It should represent the method in a way that your fellow students would be able to understand the algorithm visually.\n",
    "\n",
    " \n",
    "Submission\n",
    "\n",
    "Submit a link to a GitHub repository containing a Google Colab notebook with your assignment. Ensure your Google Colab notebook has the necessary documentation to run it. (See example in class repository). \n",
    "\n",
    " \n",
    "\n",
    "Ensure that you are following best practices for your GitHub repository and using branches/PRs appropriately. It is your job to ensure that your repository is kept up to date with necessary requirements and documentation for running code. \n",
    "\n",
    " \n",
    "\n",
    "The visuals can be included in your GitHub submission OR can be submitted in Canvas.\n",
    "Rubric\n",
    "\n",
    "Notebook (30 points)\n",
    "\n",
    "    Notebook is well documented and includes details and references to the dataset and models used\n",
    "    Three models are chosen from imodels and implemented using the imodels library\n",
    "    Code implementation is correct\n",
    "    Code implementation is clear and well documented\n",
    "\n",
    " \n",
    "\n",
    "Visuals (30 points, 10 points per visual)\n",
    "\n",
    "Rubric for each visual:\n",
    "\n",
    "    Visual is high resolution and can be viewed\n",
    "    Visual clearly explains the algorithm being explained\n",
    "    Visual is intentional and creative \n"
   ]
  },
  {
   "cell_type": "code",
   "execution_count": null,
   "id": "d3967677-9cf2-4fce-a0da-49ce3f39a8f8",
   "metadata": {},
   "outputs": [],
   "source": []
  }
 ],
 "metadata": {
  "kernelspec": {
   "display_name": "Python 3 (ipykernel)",
   "language": "python",
   "name": "python3"
  },
  "language_info": {
   "codemirror_mode": {
    "name": "ipython",
    "version": 3
   },
   "file_extension": ".py",
   "mimetype": "text/x-python",
   "name": "python",
   "nbconvert_exporter": "python",
   "pygments_lexer": "ipython3",
   "version": "3.12.4"
  }
 },
 "nbformat": 4,
 "nbformat_minor": 5
}
